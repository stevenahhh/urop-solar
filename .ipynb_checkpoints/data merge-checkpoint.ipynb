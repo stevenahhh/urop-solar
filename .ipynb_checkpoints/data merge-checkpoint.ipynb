{
 "cells": [
  {
   "cell_type": "code",
   "execution_count": 4,
   "id": "39623980-bd7b-4525-908c-15c923afeb56",
   "metadata": {},
   "outputs": [
    {
     "name": "stdout",
     "output_type": "stream",
     "text": [
      "Collecting duckdb\n",
      "  Downloading duckdb-1.3.2-cp310-cp310-manylinux_2_27_x86_64.manylinux_2_28_x86_64.whl.metadata (7.0 kB)\n",
      "Downloading duckdb-1.3.2-cp310-cp310-manylinux_2_27_x86_64.manylinux_2_28_x86_64.whl (21.1 MB)\n",
      "\u001b[2K   \u001b[90m━━━━━━━━━━━━━━━━━━━━━━━━━━━━━━━━━━━━━━━━\u001b[0m \u001b[32m21.1/21.1 MB\u001b[0m \u001b[31m36.4 MB/s\u001b[0m eta \u001b[36m0:00:00\u001b[0m00:01\u001b[0m0:01\u001b[0m\n",
      "\u001b[?25hInstalling collected packages: duckdb\n",
      "Successfully installed duckdb-1.3.2\n"
     ]
    },
    {
     "ename": "BinderException",
     "evalue": "Binder Error: No function matches the given name and argument types 'replace(TIMESTAMP, STRING_LITERAL, STRING_LITERAL)'. You might need to add explicit type casts.\n\tCandidate functions:\n\treplace(VARCHAR, VARCHAR, VARCHAR) -> VARCHAR\n\n\nLINE 8:   TRY_STRPTIME(REPLACE(DateTime,'T',' '), '%Y-%m-%d %H:%M:%S'),\n                       ^",
     "output_type": "error",
     "traceback": [
      "\u001b[0;31m---------------------------------------------------------------------------\u001b[0m",
      "\u001b[0;31mBinderException\u001b[0m                           Traceback (most recent call last)",
      "Cell \u001b[0;32mIn[4], line 74\u001b[0m\n\u001b[1;32m     35\u001b[0m sql \u001b[38;5;241m=\u001b[39m \u001b[38;5;124mf\u001b[39m\u001b[38;5;124m\"\"\"\u001b[39m\n\u001b[1;32m     36\u001b[0m \u001b[38;5;124mWITH\u001b[39m\n\u001b[1;32m     37\u001b[0m \u001b[38;5;124mf AS (\u001b[39m\n\u001b[0;32m   (...)\u001b[0m\n\u001b[1;32m     70\u001b[0m \u001b[38;5;124mORDER BY 1\u001b[39m\n\u001b[1;32m     71\u001b[0m \u001b[38;5;124m\"\"\"\u001b[39m\n\u001b[1;32m     73\u001b[0m \u001b[38;5;66;03m# 직접 파일로 내보내기 (CSV는 행 제한 없음)\u001b[39;00m\n\u001b[0;32m---> 74\u001b[0m \u001b[43mcon\u001b[49m\u001b[38;5;241;43m.\u001b[39;49m\u001b[43mexecute\u001b[49m\u001b[43m(\u001b[49m\u001b[38;5;124;43mf\u001b[39;49m\u001b[38;5;124;43m\"\u001b[39;49m\u001b[38;5;124;43mCOPY (\u001b[39;49m\u001b[38;5;132;43;01m{\u001b[39;49;00m\u001b[43msql\u001b[49m\u001b[38;5;132;43;01m}\u001b[39;49;00m\u001b[38;5;124;43m) TO \u001b[39;49m\u001b[38;5;124;43m'\u001b[39;49m\u001b[38;5;132;43;01m{\u001b[39;49;00m\u001b[43mOUT_PATH\u001b[49m\u001b[38;5;132;43;01m}\u001b[39;49;00m\u001b[38;5;124;43m'\u001b[39;49m\u001b[38;5;124;43m WITH (HEADER, DELIMITER \u001b[39;49m\u001b[38;5;124;43m'\u001b[39;49m\u001b[38;5;124;43m,\u001b[39;49m\u001b[38;5;124;43m'\u001b[39;49m\u001b[38;5;124;43m);\u001b[39;49m\u001b[38;5;124;43m\"\u001b[39;49m\u001b[43m)\u001b[49m\n\u001b[1;32m     75\u001b[0m con\u001b[38;5;241m.\u001b[39mclose()\n",
      "\u001b[0;31mBinderException\u001b[0m: Binder Error: No function matches the given name and argument types 'replace(TIMESTAMP, STRING_LITERAL, STRING_LITERAL)'. You might need to add explicit type casts.\n\tCandidate functions:\n\treplace(VARCHAR, VARCHAR, VARCHAR) -> VARCHAR\n\n\nLINE 8:   TRY_STRPTIME(REPLACE(DateTime,'T',' '), '%Y-%m-%d %H:%M:%S'),\n                       ^"
     ]
    }
   ],
   "source": [
    "# duckdb 기반, 완전 스트리밍형 SQL 파이프라인\n",
    "!pip install duckdb\n",
    "\n",
    "import duckdb\n",
    "\n",
    "F_PATH = \"F.csv\"\n",
    "E_PATH = \"수전전력E_DATA27.csv\"\n",
    "OUT_PATH = \"kwh.csv\"\n",
    "\n",
    "con = duckdb.connect()\n",
    "\n",
    "# DateTime/REG_DATE 파싱 규칙 사전 정의\n",
    "# - 'T' 포함/미포함\n",
    "# - 초 유무\n",
    "parse_f = \"\"\"\n",
    "COALESCE(\n",
    "  TRY_STRPTIME(REPLACE(DateTime,'T',' '), '%Y-%m-%d %H:%M:%S'),\n",
    "  TRY_STRPTIME(REPLACE(DateTime,'T',' '), '%Y-%m-%d %H:%M'),\n",
    "  TRY_STRPTIME(DateTime, '%Y-%m-%d %H:%M:%S'),\n",
    "  TRY_STRPTIME(DateTime, '%Y-%m-%d %H:%M')\n",
    ")\n",
    "\"\"\"\n",
    "\n",
    "parse_e = \"\"\"\n",
    "COALESCE(\n",
    "  TRY_STRPTIME(REPLACE(REG_DATE,'T',' '), '%Y-%m-%d %H:%M:%S'),\n",
    "  TRY_STRPTIME(REPLACE(REG_DATE,'T',' '), '%Y-%m-%d %H:%M'),\n",
    "  TRY_STRPTIME(REG_DATE, '%Y-%m-%d %H:%M:%S'),\n",
    "  TRY_STRPTIME(REG_DATE, '%Y-%m-%d %H:%M')\n",
    ")\n",
    "\"\"\"\n",
    "\n",
    "# LATERAL 서브쿼리로 \"최근접(양방향) 1분 이내\" 매칭, 없으면 NULL 유지\n",
    "# 출력 시 시간 포맷을 'YYYY-MM-DD HH:MM'으로 고정(DateTime 열 이름 유지)\n",
    "sql = f\"\"\"\n",
    "WITH\n",
    "f AS (\n",
    "  SELECT\n",
    "    ROW_NUMBER() OVER () AS fid,\n",
    "    {parse_f}::TIMESTAMP AS f_dt,\n",
    "    * EXCLUDE DateTime\n",
    "  FROM read_csv_auto('{F_PATH}', header=True)\n",
    "),\n",
    "e AS (\n",
    "  SELECT\n",
    "    ROW_NUMBER() OVER () AS eid,\n",
    "    {parse_e}::TIMESTAMP AS e_dt,\n",
    "    * EXCLUDE REG_DATE\n",
    "  FROM read_csv_auto('{E_PATH}', header=True)\n",
    "),\n",
    "best AS (\n",
    "  SELECT\n",
    "    f.*,\n",
    "    matched.*\n",
    "  FROM f\n",
    "  LEFT JOIN LATERAL (\n",
    "    SELECT\n",
    "      e.*,\n",
    "      ABS(f.f_dt - e.e_dt) AS diff\n",
    "    FROM e\n",
    "    WHERE ABS(f.f_dt - e.e_dt) <= INTERVAL 1 MINUTE\n",
    "    ORDER BY diff\n",
    "    LIMIT 1\n",
    "  ) AS matched ON TRUE\n",
    ")\n",
    "SELECT\n",
    "  STRFTIME(f_dt, '%Y-%m-%d %H:%M') AS DateTime,  -- 요구 포맷으로 변환\n",
    "  * EXCLUDE (fid, f_dt, eid, e_dt, diff)         -- 내부 키/중간열 제거\n",
    "FROM best\n",
    "ORDER BY 1\n",
    "\"\"\"\n",
    "\n",
    "# 직접 파일로 내보내기 (CSV는 행 제한 없음)\n",
    "con.execute(f\"COPY ({sql}) TO '{OUT_PATH}' WITH (HEADER, DELIMITER ',');\")\n",
    "con.close()\n"
   ]
  },
  {
   "cell_type": "code",
   "execution_count": null,
   "id": "bc296484-59ec-49e4-b9b9-55186b57d62e",
   "metadata": {},
   "outputs": [],
   "source": []
  }
 ],
 "metadata": {
  "kernelspec": {
   "display_name": "Python 3 (ipykernel)",
   "language": "python",
   "name": "python3"
  },
  "language_info": {
   "codemirror_mode": {
    "name": "ipython",
    "version": 3
   },
   "file_extension": ".py",
   "mimetype": "text/x-python",
   "name": "python",
   "nbconvert_exporter": "python",
   "pygments_lexer": "ipython3",
   "version": "3.10.18"
  }
 },
 "nbformat": 4,
 "nbformat_minor": 5
}
